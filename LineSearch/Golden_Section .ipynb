{
 "cells": [
  {
   "cell_type": "code",
   "execution_count": 1,
   "id": "c5be1d01-b06a-4a60-b90e-727f4cd32a21",
   "metadata": {},
   "outputs": [],
   "source": [
    "import numpy as np\n",
    "import matplotlib.pyplot as plt"
   ]
  },
  {
   "cell_type": "markdown",
   "id": "c6682295-a991-4c31-b80e-d8e7b3472f36",
   "metadata": {},
   "source": [
    "# Golden Search"
   ]
  },
  {
   "cell_type": "markdown",
   "id": "7f0949c1-f34c-448d-b6ec-035f9843f26f",
   "metadata": {},
   "source": [
    "### The Function"
   ]
  },
  {
   "cell_type": "code",
   "execution_count": 2,
   "id": "4989f408-a8e2-470f-b04d-449ca888bac2",
   "metadata": {},
   "outputs": [],
   "source": [
    "def function(x):\n",
    "    return x**2-2*x"
   ]
  },
  {
   "cell_type": "code",
   "execution_count": 3,
   "id": "8cdeb6e9-0613-4a12-92c9-ce7799073c53",
   "metadata": {},
   "outputs": [
    {
     "data": {
      "text/plain": [
       "15"
      ]
     },
     "execution_count": 3,
     "metadata": {},
     "output_type": "execute_result"
    }
   ],
   "source": [
    "function(5)"
   ]
  },
  {
   "cell_type": "code",
   "execution_count": 4,
   "id": "59809a41-f4bf-4a16-b4dd-c6c9190fcc19",
   "metadata": {},
   "outputs": [
    {
     "data": {
      "text/plain": [
       "[-5, -4, -3, -2, -1, 0, 1, 2, 3, 4, 5]"
      ]
     },
     "execution_count": 4,
     "metadata": {},
     "output_type": "execute_result"
    }
   ],
   "source": [
    "l1= [-5,-4,-3,-2,-1,0,1,2,3,4,5]\n",
    "l1"
   ]
  },
  {
   "cell_type": "code",
   "execution_count": 5,
   "id": "fc70a6b3-22e8-4985-9f6e-a67475c76937",
   "metadata": {},
   "outputs": [
    {
     "name": "stdout",
     "output_type": "stream",
     "text": [
      "[35, 24, 15, 8, 3, 0, -1, 0, 3, 8, 15]\n"
     ]
    }
   ],
   "source": [
    "newlist = []\n",
    "\n",
    "for x in l1:\n",
    "    newlist.append(function(x))\n",
    "\n",
    "print(newlist)"
   ]
  },
  {
   "cell_type": "code",
   "execution_count": 6,
   "id": "ab2c1272-df0d-4b76-b940-279b366e0420",
   "metadata": {},
   "outputs": [
    {
     "data": {
      "text/plain": [
       "[<matplotlib.lines.Line2D at 0x7f5874cb6820>]"
      ]
     },
     "execution_count": 6,
     "metadata": {},
     "output_type": "execute_result"
    },
    {
     "data": {
      "image/png": "[encoded data removed]",
      "text/plain": [
       "<Figure size 432x288 with 1 Axes>"
      ]
     },
     "metadata": {
      "needs_background": "light"
     },
     "output_type": "display_data"
    }
   ],
   "source": [
    "plt.plot(newlist)"
   ]
  },
  {
   "cell_type": "markdown",
   "id": "8013d2fd-940e-48b1-a28b-9712a4d6c8a8",
   "metadata": {},
   "source": [
    "## Our Algorithm"
   ]
  },
  {
   "cell_type": "code",
   "execution_count": 10,
   "id": "4e6414ab-ed64-4d16-895d-205bc7ef8ec5",
   "metadata": {},
   "outputs": [],
   "source": [
    "def golden_section(func,x,y,error=0.00001):\n",
    "    x,y=(min(x,y),max(x,y))\n",
    "    a=[x]\n",
    "    b=[y]\n",
    "    alpha=0.618\n",
    "    r=[(x+y)/2]\n",
    "    while abs(a[-1]-b[-1])>error:\n",
    "        c=a[-1]+(1-alpha)*(b[-1]-a[-1])\n",
    "        d=b[-1]-(1-alpha)*(b[-1]-a[-1])\n",
    "        if func(a[-1])<func(b[-1]):\n",
    "            a.append(a[-1])\n",
    "            b.append(d)\n",
    "        else:\n",
    "            a.append(c)\n",
    "            b.append(b[-1])\n",
    "        r.append((a[-1]+b[-1])/2)\n",
    "    return a,b,r"
   ]
  },
  {
   "cell_type": "code",
   "execution_count": 12,
   "id": "6522458e-8269-483d-a32f-ef0dbdde239d",
   "metadata": {
    "jupyter": {
     "outputs_hidden": true
    },
    "tags": []
   },
   "outputs": [],
   "source": [
    "x,y,r=golden_section(function,-3,4)"
   ]
  },
  {
   "cell_type": "markdown",
   "id": "fc61b70f",
   "metadata": {},
   "source": [
    "## Interval reduction uing Golden Section"
   ]
  },
  {
   "cell_type": "code",
   "execution_count": 18,
   "id": "c8537804-3cb3-4318-ba29-3db7142b9390",
   "metadata": {},
   "outputs": [
    {
     "data": {
      "text/plain": [
       "<matplotlib.legend.Legend at 0x7f586b7719a0>"
      ]
     },
     "execution_count": 18,
     "metadata": {},
     "output_type": "execute_result"
    },
    {
     "data": {
      "image/png": "[encoded data removed]",
      "text/plain": [
       "<Figure size 432x288 with 1 Axes>"
      ]
     },
     "metadata": {
      "needs_background": "light"
     },
     "output_type": "display_data"
    }
   ],
   "source": [
    "plt.plot(y,\"bo-\",label=\"right interval size reduction\")\n",
    "plt.plot(x,\"g*-\",label=\"left interval size reduction\")\n",
    "plt.title(\"Reduction of intervals\")\n",
    "plt.legend()"
   ]
  },
  {
   "cell_type": "markdown",
   "id": "49a08e0f",
   "metadata": {},
   "source": [
    "## The Convergence Rate "
   ]
  },
  {
   "cell_type": "code",
   "execution_count": 24,
   "id": "c1b66332",
   "metadata": {},
   "outputs": [
    {
     "name": "stdout",
     "output_type": "stream",
     "text": [
      "[-0.618, 0.618, -0.6180000000000001, 0.618, -0.6179999999999999, -0.6179999999999997, 0.6180000000000023, -0.6179999999999994, -0.6180000000000009, 0.6180000000000067, -0.6179999999999929, 0.6180000000000074, -0.6179999999999642, -0.6179999999999917, 0.6180000000000386, -0.6180000000000768, -0.6179999999998999, 0.6179999999998801, -0.6179999999999135, 0.6179999999995865, -0.6179999999992707, -0.6180000000000203, -0.6180000000002173, 0.6179999999981672, -0.6180000000022587, -0.6180000000051614, -0.6180000000040179]\n"
     ]
    },
    {
     "data": {
      "text/plain": [
       "Text(0.5, 1.0, 'Convergence Rate Of Golden Section')"
      ]
     },
     "execution_count": 24,
     "metadata": {},
     "output_type": "execute_result"
    },
    {
     "data": {
      "image/png": "[encoded data removed]",
      "text/plain": [
       "<Figure size 432x288 with 1 Axes>"
      ]
     },
     "metadata": {
      "needs_background": "light"
     },
     "output_type": "display_data"
    }
   ],
   "source": [
    "conv=[]\n",
    "for i in range(len(x)-2):\n",
    "    conv.append((r[i+2]-r[i+1])/(r[i+1]-r[i]))\n",
    "print(conv)    \n",
    "plt.plot(conv,\"o-\")\n",
    "plt.title(\"Convergence Rate Of Golden Section\")"
   ]
  },
  {
   "cell_type": "code",
   "execution_count": null,
   "id": "aaac4191",
   "metadata": {},
   "outputs": [],
   "source": []
  }
 ],
 "metadata": {
  "kernelspec": {
   "display_name": "Python 3",
   "language": "python",
   "name": "python3"
  },
  "language_info": {
   "codemirror_mode": {
    "name": "ipython",
    "version": 3
   },
   "file_extension": ".py",
   "mimetype": "text/x-python",
   "name": "python",
   "nbconvert_exporter": "python",
   "pygments_lexer": "ipython3",
   "version": "3.8.10"
  }
 },
 "nbformat": 4,
 "nbformat_minor": 5
}
